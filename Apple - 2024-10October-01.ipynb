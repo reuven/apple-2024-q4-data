{
 "cells": [
  {
   "cell_type": "markdown",
   "id": "49495227-3229-4c0f-9161-dd309dde6ef0",
   "metadata": {},
   "source": [
    "# Agenda\n",
    "\n",
    "1. Indexes + multi-indexes\n",
    "2. Sorting\n",
    "3. Grouping\n",
    "4. Pivot table"
   ]
  },
  {
   "cell_type": "code",
   "execution_count": null,
   "id": "22952ed2-8ab4-4a91-a94d-71e14769b0b5",
   "metadata": {},
   "outputs": [],
   "source": []
  }
 ],
 "metadata": {
  "kernelspec": {
   "display_name": "Python 3 (ipykernel)",
   "language": "python",
   "name": "python3"
  },
  "language_info": {
   "codemirror_mode": {
    "name": "ipython",
    "version": 3
   },
   "file_extension": ".py",
   "mimetype": "text/x-python",
   "name": "python",
   "nbconvert_exporter": "python",
   "pygments_lexer": "ipython3",
   "version": "3.12.2"
  },
  "widgets": {
   "application/vnd.jupyter.widget-state+json": {
    "state": {},
    "version_major": 2,
    "version_minor": 0
   }
  }
 },
 "nbformat": 4,
 "nbformat_minor": 5
}
