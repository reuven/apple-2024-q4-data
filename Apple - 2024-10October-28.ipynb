{
 "cells": [
  {
   "cell_type": "markdown",
   "id": "10021173-f03e-46b2-ab67-973915681b19",
   "metadata": {},
   "source": [
    "# Agenda: Dates and times\n",
    "\n",
    "1. Core concepts and data structures\n",
    "2. Parsing of dates and times\n",
    "3. Using `.dt`\n",
    "4. Comparisons and the like\n",
    "5. Timedelta, and comparisons with it\n",
    "6. Grouper\n",
    "7. Time series\n",
    "8. Resampling "
   ]
  },
  {
   "cell_type": "markdown",
   "id": "9281d5f4-f658-457e-871c-b6054458e4b4",
   "metadata": {},
   "source": [
    "# Concepts\n",
    "\n",
    "- `datetime` or `timestamp` -- unique point in time, with year, month, day, hour, minute, second, etc.\n",
    "- `timedelta` or `interval` -- range of time, measured in seconds, minutes, days\n",
    "\n",
    "Date math:\n",
    "- `datetime` - `datetime` = `timedelta`\n",
    "- `datetime` + `timedelta` = `datetime`\n",
    "- `datetime` - `timedelta` = `datetime`"
   ]
  },
  {
   "cell_type": "code",
   "execution_count": null,
   "id": "613dcd58-a226-4a8a-92ce-1f555e4add29",
   "metadata": {},
   "outputs": [],
   "source": []
  }
 ],
 "metadata": {
  "kernelspec": {
   "display_name": "Python 3 (ipykernel)",
   "language": "python",
   "name": "python3"
  },
  "language_info": {
   "codemirror_mode": {
    "name": "ipython",
    "version": 3
   },
   "file_extension": ".py",
   "mimetype": "text/x-python",
   "name": "python",
   "nbconvert_exporter": "python",
   "pygments_lexer": "ipython3",
   "version": "3.13.0"
  },
  "widgets": {
   "application/vnd.jupyter.widget-state+json": {
    "state": {},
    "version_major": 2,
    "version_minor": 0
   }
  }
 },
 "nbformat": 4,
 "nbformat_minor": 5
}
