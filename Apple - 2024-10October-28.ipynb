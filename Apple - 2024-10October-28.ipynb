{
 "cells": [
  {
   "cell_type": "markdown",
   "id": "10021173-f03e-46b2-ab67-973915681b19",
   "metadata": {},
   "source": [
    "# Agenda: Dates and times\n",
    "\n",
    "1. Core concepts and data structures\n",
    "2. Parsing of dates and times\n",
    "3. Using `.dt`\n",
    "4. Comparisons and the like\n",
    "5. Timedelta, and comparisons with it\n",
    "6. Grouper\n",
    "7. Time series\n",
    "8. Resampling "
   ]
  },
  {
   "cell_type": "code",
   "execution_count": null,
   "id": "0a16deff-0f5c-4eac-acae-a133b92ce53e",
   "metadata": {},
   "outputs": [],
   "source": []
  }
 ],
 "metadata": {
  "kernelspec": {
   "display_name": "Python 3 (ipykernel)",
   "language": "python",
   "name": "python3"
  },
  "language_info": {
   "codemirror_mode": {
    "name": "ipython",
    "version": 3
   },
   "file_extension": ".py",
   "mimetype": "text/x-python",
   "name": "python",
   "nbconvert_exporter": "python",
   "pygments_lexer": "ipython3",
   "version": "3.13.0"
  },
  "widgets": {
   "application/vnd.jupyter.widget-state+json": {
    "state": {},
    "version_major": 2,
    "version_minor": 0
   }
  }
 },
 "nbformat": 4,
 "nbformat_minor": 5
}
