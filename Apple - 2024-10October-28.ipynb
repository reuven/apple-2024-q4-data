{
 "cells": [
  {
   "cell_type": "markdown",
   "id": "10021173-f03e-46b2-ab67-973915681b19",
   "metadata": {},
   "source": [
    "# Agenda: Dates and times\n",
    "\n",
    "1. Core concepts and data structures\n",
    "2. Parsing of dates and times\n",
    "3. Using `.dt`\n",
    "4. Comparisons and the like\n",
    "5. Timedelta, and comparisons with it\n",
    "6. Grouper\n",
    "7. Time series\n",
    "8. Resampling "
   ]
  },
  {
   "cell_type": "markdown",
   "id": "9281d5f4-f658-457e-871c-b6054458e4b4",
   "metadata": {},
   "source": [
    "# Concepts\n",
    "\n",
    "- `datetime` or `timestamp` -- unique point in time, with year, month, day, hour, minute, second, etc.\n",
    "- `timedelta` or `interval` -- range of time, measured in seconds, minutes, days\n",
    "\n",
    "Date math:\n",
    "- `datetime` - `datetime` = `timedelta`\n",
    "- `datetime` + `timedelta` = `datetime`\n",
    "- `datetime` - `timedelta` = `datetime`"
   ]
  },
  {
   "cell_type": "code",
   "execution_count": 1,
   "id": "613dcd58-a226-4a8a-92ce-1f555e4add29",
   "metadata": {},
   "outputs": [],
   "source": [
    "import pandas as pd\n",
    "\n",
    "filename = 'taxi.csv'\n",
    "df = pd.read_csv(filename)"
   ]
  },
  {
   "cell_type": "code",
   "execution_count": 2,
   "id": "1bfa2db3-8d7c-425b-b56f-ef667ce980a6",
   "metadata": {},
   "outputs": [
    {
     "data": {
      "text/html": [
       "<div>\n",
       "<style scoped>\n",
       "    .dataframe tbody tr th:only-of-type {\n",
       "        vertical-align: middle;\n",
       "    }\n",
       "\n",
       "    .dataframe tbody tr th {\n",
       "        vertical-align: top;\n",
       "    }\n",
       "\n",
       "    .dataframe thead th {\n",
       "        text-align: right;\n",
       "    }\n",
       "</style>\n",
       "<table border=\"1\" class=\"dataframe\">\n",
       "  <thead>\n",
       "    <tr style=\"text-align: right;\">\n",
       "      <th></th>\n",
       "      <th>VendorID</th>\n",
       "      <th>tpep_pickup_datetime</th>\n",
       "      <th>tpep_dropoff_datetime</th>\n",
       "      <th>passenger_count</th>\n",
       "      <th>trip_distance</th>\n",
       "      <th>pickup_longitude</th>\n",
       "      <th>pickup_latitude</th>\n",
       "      <th>RateCodeID</th>\n",
       "      <th>store_and_fwd_flag</th>\n",
       "      <th>dropoff_longitude</th>\n",
       "      <th>dropoff_latitude</th>\n",
       "      <th>payment_type</th>\n",
       "      <th>fare_amount</th>\n",
       "      <th>extra</th>\n",
       "      <th>mta_tax</th>\n",
       "      <th>tip_amount</th>\n",
       "      <th>tolls_amount</th>\n",
       "      <th>improvement_surcharge</th>\n",
       "      <th>total_amount</th>\n",
       "    </tr>\n",
       "  </thead>\n",
       "  <tbody>\n",
       "    <tr>\n",
       "      <th>0</th>\n",
       "      <td>2</td>\n",
       "      <td>2015-06-02 11:19:29</td>\n",
       "      <td>2015-06-02 11:47:52</td>\n",
       "      <td>1</td>\n",
       "      <td>1.63</td>\n",
       "      <td>-73.954430</td>\n",
       "      <td>40.764141</td>\n",
       "      <td>1</td>\n",
       "      <td>N</td>\n",
       "      <td>-73.974754</td>\n",
       "      <td>40.754093</td>\n",
       "      <td>2</td>\n",
       "      <td>17.0</td>\n",
       "      <td>0.0</td>\n",
       "      <td>0.5</td>\n",
       "      <td>0.00</td>\n",
       "      <td>0.0</td>\n",
       "      <td>0.3</td>\n",
       "      <td>17.80</td>\n",
       "    </tr>\n",
       "    <tr>\n",
       "      <th>1</th>\n",
       "      <td>2</td>\n",
       "      <td>2015-06-02 11:19:30</td>\n",
       "      <td>2015-06-02 11:27:56</td>\n",
       "      <td>1</td>\n",
       "      <td>0.46</td>\n",
       "      <td>-73.971443</td>\n",
       "      <td>40.758942</td>\n",
       "      <td>1</td>\n",
       "      <td>N</td>\n",
       "      <td>-73.978539</td>\n",
       "      <td>40.761909</td>\n",
       "      <td>1</td>\n",
       "      <td>6.5</td>\n",
       "      <td>0.0</td>\n",
       "      <td>0.5</td>\n",
       "      <td>1.00</td>\n",
       "      <td>0.0</td>\n",
       "      <td>0.3</td>\n",
       "      <td>8.30</td>\n",
       "    </tr>\n",
       "    <tr>\n",
       "      <th>2</th>\n",
       "      <td>2</td>\n",
       "      <td>2015-06-02 11:19:31</td>\n",
       "      <td>2015-06-02 11:30:30</td>\n",
       "      <td>1</td>\n",
       "      <td>0.87</td>\n",
       "      <td>-73.978111</td>\n",
       "      <td>40.738434</td>\n",
       "      <td>1</td>\n",
       "      <td>N</td>\n",
       "      <td>-73.990273</td>\n",
       "      <td>40.745438</td>\n",
       "      <td>1</td>\n",
       "      <td>8.0</td>\n",
       "      <td>0.0</td>\n",
       "      <td>0.5</td>\n",
       "      <td>2.20</td>\n",
       "      <td>0.0</td>\n",
       "      <td>0.3</td>\n",
       "      <td>11.00</td>\n",
       "    </tr>\n",
       "    <tr>\n",
       "      <th>3</th>\n",
       "      <td>2</td>\n",
       "      <td>2015-06-02 11:19:31</td>\n",
       "      <td>2015-06-02 11:39:02</td>\n",
       "      <td>1</td>\n",
       "      <td>2.13</td>\n",
       "      <td>-73.945892</td>\n",
       "      <td>40.773529</td>\n",
       "      <td>1</td>\n",
       "      <td>N</td>\n",
       "      <td>-73.971527</td>\n",
       "      <td>40.760330</td>\n",
       "      <td>1</td>\n",
       "      <td>13.5</td>\n",
       "      <td>0.0</td>\n",
       "      <td>0.5</td>\n",
       "      <td>2.86</td>\n",
       "      <td>0.0</td>\n",
       "      <td>0.3</td>\n",
       "      <td>17.16</td>\n",
       "    </tr>\n",
       "    <tr>\n",
       "      <th>4</th>\n",
       "      <td>1</td>\n",
       "      <td>2015-06-02 11:19:32</td>\n",
       "      <td>2015-06-02 11:32:49</td>\n",
       "      <td>1</td>\n",
       "      <td>1.40</td>\n",
       "      <td>-73.979088</td>\n",
       "      <td>40.776772</td>\n",
       "      <td>1</td>\n",
       "      <td>N</td>\n",
       "      <td>-73.982162</td>\n",
       "      <td>40.758999</td>\n",
       "      <td>2</td>\n",
       "      <td>9.5</td>\n",
       "      <td>0.0</td>\n",
       "      <td>0.5</td>\n",
       "      <td>0.00</td>\n",
       "      <td>0.0</td>\n",
       "      <td>0.3</td>\n",
       "      <td>10.30</td>\n",
       "    </tr>\n",
       "  </tbody>\n",
       "</table>\n",
       "</div>"
      ],
      "text/plain": [
       "   VendorID tpep_pickup_datetime tpep_dropoff_datetime  passenger_count  \\\n",
       "0         2  2015-06-02 11:19:29   2015-06-02 11:47:52                1   \n",
       "1         2  2015-06-02 11:19:30   2015-06-02 11:27:56                1   \n",
       "2         2  2015-06-02 11:19:31   2015-06-02 11:30:30                1   \n",
       "3         2  2015-06-02 11:19:31   2015-06-02 11:39:02                1   \n",
       "4         1  2015-06-02 11:19:32   2015-06-02 11:32:49                1   \n",
       "\n",
       "   trip_distance  pickup_longitude  pickup_latitude  RateCodeID  \\\n",
       "0           1.63        -73.954430        40.764141           1   \n",
       "1           0.46        -73.971443        40.758942           1   \n",
       "2           0.87        -73.978111        40.738434           1   \n",
       "3           2.13        -73.945892        40.773529           1   \n",
       "4           1.40        -73.979088        40.776772           1   \n",
       "\n",
       "  store_and_fwd_flag  dropoff_longitude  dropoff_latitude  payment_type  \\\n",
       "0                  N         -73.974754         40.754093             2   \n",
       "1                  N         -73.978539         40.761909             1   \n",
       "2                  N         -73.990273         40.745438             1   \n",
       "3                  N         -73.971527         40.760330             1   \n",
       "4                  N         -73.982162         40.758999             2   \n",
       "\n",
       "   fare_amount  extra  mta_tax  tip_amount  tolls_amount  \\\n",
       "0         17.0    0.0      0.5        0.00           0.0   \n",
       "1          6.5    0.0      0.5        1.00           0.0   \n",
       "2          8.0    0.0      0.5        2.20           0.0   \n",
       "3         13.5    0.0      0.5        2.86           0.0   \n",
       "4          9.5    0.0      0.5        0.00           0.0   \n",
       "\n",
       "   improvement_surcharge  total_amount  \n",
       "0                    0.3         17.80  \n",
       "1                    0.3          8.30  \n",
       "2                    0.3         11.00  \n",
       "3                    0.3         17.16  \n",
       "4                    0.3         10.30  "
      ]
     },
     "execution_count": 2,
     "metadata": {},
     "output_type": "execute_result"
    }
   ],
   "source": [
    "df.head()"
   ]
  },
  {
   "cell_type": "code",
   "execution_count": 3,
   "id": "bbbf928c-87f7-4641-b10e-2e6fbaedf902",
   "metadata": {},
   "outputs": [
    {
     "data": {
      "text/plain": [
       "VendorID                   int64\n",
       "tpep_pickup_datetime      object\n",
       "tpep_dropoff_datetime     object\n",
       "passenger_count            int64\n",
       "trip_distance            float64\n",
       "pickup_longitude         float64\n",
       "pickup_latitude          float64\n",
       "RateCodeID                 int64\n",
       "store_and_fwd_flag        object\n",
       "dropoff_longitude        float64\n",
       "dropoff_latitude         float64\n",
       "payment_type               int64\n",
       "fare_amount              float64\n",
       "extra                    float64\n",
       "mta_tax                  float64\n",
       "tip_amount               float64\n",
       "tolls_amount             float64\n",
       "improvement_surcharge    float64\n",
       "total_amount             float64\n",
       "dtype: object"
      ]
     },
     "execution_count": 3,
     "metadata": {},
     "output_type": "execute_result"
    }
   ],
   "source": [
    "df.dtypes"
   ]
  },
  {
   "cell_type": "code",
   "execution_count": 4,
   "id": "1d121d91-31d6-4ccb-95de-726cb34c8d9d",
   "metadata": {},
   "outputs": [
    {
     "name": "stdout",
     "output_type": "stream",
     "text": [
      "<class 'pandas.core.frame.DataFrame'>\n",
      "RangeIndex: 9999 entries, 0 to 9998\n",
      "Data columns (total 19 columns):\n",
      " #   Column                 Non-Null Count  Dtype  \n",
      "---  ------                 --------------  -----  \n",
      " 0   VendorID               9999 non-null   int64  \n",
      " 1   tpep_pickup_datetime   9999 non-null   object \n",
      " 2   tpep_dropoff_datetime  9999 non-null   object \n",
      " 3   passenger_count        9999 non-null   int64  \n",
      " 4   trip_distance          9999 non-null   float64\n",
      " 5   pickup_longitude       9999 non-null   float64\n",
      " 6   pickup_latitude        9999 non-null   float64\n",
      " 7   RateCodeID             9999 non-null   int64  \n",
      " 8   store_and_fwd_flag     9999 non-null   object \n",
      " 9   dropoff_longitude      9999 non-null   float64\n",
      " 10  dropoff_latitude       9999 non-null   float64\n",
      " 11  payment_type           9999 non-null   int64  \n",
      " 12  fare_amount            9999 non-null   float64\n",
      " 13  extra                  9999 non-null   float64\n",
      " 14  mta_tax                9999 non-null   float64\n",
      " 15  tip_amount             9999 non-null   float64\n",
      " 16  tolls_amount           9999 non-null   float64\n",
      " 17  improvement_surcharge  9999 non-null   float64\n",
      " 18  total_amount           9999 non-null   float64\n",
      "dtypes: float64(12), int64(4), object(3)\n",
      "memory usage: 3.0 MB\n"
     ]
    }
   ],
   "source": [
    "# how much memory?\n",
    "\n",
    "df.info(memory_usage='deep')"
   ]
  },
  {
   "cell_type": "code",
   "execution_count": 5,
   "id": "47112846-554e-4258-ab0e-fc5997ecfbea",
   "metadata": {},
   "outputs": [
    {
     "data": {
      "text/plain": [
       "0      2015-06-02 11:19:29\n",
       "1      2015-06-02 11:19:30\n",
       "2      2015-06-02 11:19:31\n",
       "3      2015-06-02 11:19:31\n",
       "4      2015-06-02 11:19:32\n",
       "               ...        \n",
       "9994   2015-06-01 00:12:59\n",
       "9995   2015-06-01 00:12:59\n",
       "9996   2015-06-01 00:13:00\n",
       "9997   2015-06-01 00:13:02\n",
       "9998   2015-06-01 00:13:04\n",
       "Name: tpep_pickup_datetime, Length: 9999, dtype: datetime64[ns]"
      ]
     },
     "execution_count": 5,
     "metadata": {},
     "output_type": "execute_result"
    }
   ],
   "source": [
    "# pd.to_datetime\n",
    "\n",
    "pd.to_datetime(df['tpep_pickup_datetime'])"
   ]
  },
  {
   "cell_type": "code",
   "execution_count": 6,
   "id": "b522f279-6f45-4363-a4e7-cc46c305ac75",
   "metadata": {},
   "outputs": [],
   "source": [
    "# assign back to the data frame\n",
    "\n",
    "df['tpep_pickup_datetime'] = pd.to_datetime(df['tpep_pickup_datetime'])\n",
    "df['tpep_dropoff_datetime'] = pd.to_datetime(df['tpep_dropoff_datetime'])"
   ]
  },
  {
   "cell_type": "code",
   "execution_count": 7,
   "id": "fce16d4c-9037-4e64-bf8f-dfcc88bfe106",
   "metadata": {},
   "outputs": [
    {
     "name": "stdout",
     "output_type": "stream",
     "text": [
      "<class 'pandas.core.frame.DataFrame'>\n",
      "RangeIndex: 9999 entries, 0 to 9998\n",
      "Data columns (total 19 columns):\n",
      " #   Column                 Non-Null Count  Dtype         \n",
      "---  ------                 --------------  -----         \n",
      " 0   VendorID               9999 non-null   int64         \n",
      " 1   tpep_pickup_datetime   9999 non-null   datetime64[ns]\n",
      " 2   tpep_dropoff_datetime  9999 non-null   datetime64[ns]\n",
      " 3   passenger_count        9999 non-null   int64         \n",
      " 4   trip_distance          9999 non-null   float64       \n",
      " 5   pickup_longitude       9999 non-null   float64       \n",
      " 6   pickup_latitude        9999 non-null   float64       \n",
      " 7   RateCodeID             9999 non-null   int64         \n",
      " 8   store_and_fwd_flag     9999 non-null   object        \n",
      " 9   dropoff_longitude      9999 non-null   float64       \n",
      " 10  dropoff_latitude       9999 non-null   float64       \n",
      " 11  payment_type           9999 non-null   int64         \n",
      " 12  fare_amount            9999 non-null   float64       \n",
      " 13  extra                  9999 non-null   float64       \n",
      " 14  mta_tax                9999 non-null   float64       \n",
      " 15  tip_amount             9999 non-null   float64       \n",
      " 16  tolls_amount           9999 non-null   float64       \n",
      " 17  improvement_surcharge  9999 non-null   float64       \n",
      " 18  total_amount           9999 non-null   float64       \n",
      "dtypes: datetime64[ns](2), float64(12), int64(4), object(1)\n",
      "memory usage: 1.9 MB\n"
     ]
    }
   ],
   "source": [
    "df.info(memory_usage='deep')"
   ]
  },
  {
   "cell_type": "markdown",
   "id": "e1654846-3585-4c7c-957d-61adc6db1561",
   "metadata": {},
   "source": [
    "# What format?\n",
    "\n",
    "- `YYYY-MM-DD HH:MM:SS` -- this works automatically\n",
    "- `DD/MM/YYYY HH:MM:SS` -- works fine, if we pass `dayfirst=True`\n",
    "- `MM/DD/YYYY HH:MM:SS` -- this works automatically\n",
    "\n",
    "We can pass the `format` keyword argument, and pass a format string (https://strftime.org/)"
   ]
  },
  {
   "cell_type": "code",
   "execution_count": 10,
   "id": "890b4749-65a2-4bec-800d-b39db6ebf64b",
   "metadata": {},
   "outputs": [],
   "source": [
    "df = (pd.\n",
    "     read_csv(filename)\n",
    "      .assign(tpep_pickup_datetime = lambda df_: pd.to_datetime(df_['tpep_pickup_datetime']),\n",
    "              tpep_dropoff_datetime = lambda df_: pd.to_datetime(df_['tpep_dropoff_datetime']))\n",
    "     )"
   ]
  },
  {
   "cell_type": "code",
   "execution_count": 11,
   "id": "c03b2365-65a1-42ed-9060-2083848fbe81",
   "metadata": {},
   "outputs": [
    {
     "data": {
      "text/plain": [
       "VendorID                          int64\n",
       "tpep_pickup_datetime     datetime64[ns]\n",
       "tpep_dropoff_datetime    datetime64[ns]\n",
       "passenger_count                   int64\n",
       "trip_distance                   float64\n",
       "pickup_longitude                float64\n",
       "pickup_latitude                 float64\n",
       "RateCodeID                        int64\n",
       "store_and_fwd_flag               object\n",
       "dropoff_longitude               float64\n",
       "dropoff_latitude                float64\n",
       "payment_type                      int64\n",
       "fare_amount                     float64\n",
       "extra                           float64\n",
       "mta_tax                         float64\n",
       "tip_amount                      float64\n",
       "tolls_amount                    float64\n",
       "improvement_surcharge           float64\n",
       "total_amount                    float64\n",
       "dtype: object"
      ]
     },
     "execution_count": 11,
     "metadata": {},
     "output_type": "execute_result"
    }
   ],
   "source": [
    "df.dtypes"
   ]
  },
  {
   "cell_type": "code",
   "execution_count": 13,
   "id": "fb2fb193-c25e-4016-add6-beee488d452b",
   "metadata": {},
   "outputs": [
    {
     "data": {
      "text/plain": [
       "tpep_pickup_datetime     datetime64[ns]\n",
       "tpep_dropoff_datetime    datetime64[ns]\n",
       "passenger_count                   int64\n",
       "trip_distance                   float64\n",
       "total_amount                    float64\n",
       "dtype: object"
      ]
     },
     "execution_count": 13,
     "metadata": {},
     "output_type": "execute_result"
    }
   ],
   "source": [
    "# we can also use parse_dates\n",
    "\n",
    "df = (pd.\n",
    "     read_csv(filename,\n",
    "              usecols=['tpep_pickup_datetime', 'tpep_dropoff_datetime',\n",
    "                      'passenger_count', 'trip_distance', 'total_amount'],\n",
    "             parse_dates=['tpep_pickup_datetime', 'tpep_dropoff_datetime'])\n",
    "     )\n",
    "df.dtypes"
   ]
  },
  {
   "cell_type": "code",
   "execution_count": 14,
   "id": "3198c748-c8a9-43e5-9842-6c566686eb99",
   "metadata": {},
   "outputs": [
    {
     "data": {
      "text/html": [
       "<div>\n",
       "<style scoped>\n",
       "    .dataframe tbody tr th:only-of-type {\n",
       "        vertical-align: middle;\n",
       "    }\n",
       "\n",
       "    .dataframe tbody tr th {\n",
       "        vertical-align: top;\n",
       "    }\n",
       "\n",
       "    .dataframe thead th {\n",
       "        text-align: right;\n",
       "    }\n",
       "</style>\n",
       "<table border=\"1\" class=\"dataframe\">\n",
       "  <thead>\n",
       "    <tr style=\"text-align: right;\">\n",
       "      <th></th>\n",
       "      <th>tpep_pickup_datetime</th>\n",
       "      <th>tpep_dropoff_datetime</th>\n",
       "      <th>passenger_count</th>\n",
       "      <th>trip_distance</th>\n",
       "      <th>total_amount</th>\n",
       "    </tr>\n",
       "  </thead>\n",
       "  <tbody>\n",
       "    <tr>\n",
       "      <th>0</th>\n",
       "      <td>2015-06-02 11:19:29</td>\n",
       "      <td>2015-06-02 11:47:52</td>\n",
       "      <td>1</td>\n",
       "      <td>1.63</td>\n",
       "      <td>17.80</td>\n",
       "    </tr>\n",
       "    <tr>\n",
       "      <th>1</th>\n",
       "      <td>2015-06-02 11:19:30</td>\n",
       "      <td>2015-06-02 11:27:56</td>\n",
       "      <td>1</td>\n",
       "      <td>0.46</td>\n",
       "      <td>8.30</td>\n",
       "    </tr>\n",
       "    <tr>\n",
       "      <th>2</th>\n",
       "      <td>2015-06-02 11:19:31</td>\n",
       "      <td>2015-06-02 11:30:30</td>\n",
       "      <td>1</td>\n",
       "      <td>0.87</td>\n",
       "      <td>11.00</td>\n",
       "    </tr>\n",
       "    <tr>\n",
       "      <th>3</th>\n",
       "      <td>2015-06-02 11:19:31</td>\n",
       "      <td>2015-06-02 11:39:02</td>\n",
       "      <td>1</td>\n",
       "      <td>2.13</td>\n",
       "      <td>17.16</td>\n",
       "    </tr>\n",
       "    <tr>\n",
       "      <th>4</th>\n",
       "      <td>2015-06-02 11:19:32</td>\n",
       "      <td>2015-06-02 11:32:49</td>\n",
       "      <td>1</td>\n",
       "      <td>1.40</td>\n",
       "      <td>10.30</td>\n",
       "    </tr>\n",
       "    <tr>\n",
       "      <th>5</th>\n",
       "      <td>2015-06-02 11:19:33</td>\n",
       "      <td>2015-06-02 11:28:48</td>\n",
       "      <td>1</td>\n",
       "      <td>1.40</td>\n",
       "      <td>10.55</td>\n",
       "    </tr>\n",
       "    <tr>\n",
       "      <th>6</th>\n",
       "      <td>2015-06-02 11:19:34</td>\n",
       "      <td>2015-06-02 11:38:46</td>\n",
       "      <td>1</td>\n",
       "      <td>1.80</td>\n",
       "      <td>16.30</td>\n",
       "    </tr>\n",
       "    <tr>\n",
       "      <th>7</th>\n",
       "      <td>2015-06-02 11:19:35</td>\n",
       "      <td>2015-06-02 12:36:46</td>\n",
       "      <td>4</td>\n",
       "      <td>11.90</td>\n",
       "      <td>73.84</td>\n",
       "    </tr>\n",
       "    <tr>\n",
       "      <th>8</th>\n",
       "      <td>2015-06-02 11:19:36</td>\n",
       "      <td>2015-06-02 11:45:19</td>\n",
       "      <td>1</td>\n",
       "      <td>1.27</td>\n",
       "      <td>15.80</td>\n",
       "    </tr>\n",
       "    <tr>\n",
       "      <th>9</th>\n",
       "      <td>2015-06-02 11:19:38</td>\n",
       "      <td>2015-06-02 11:23:50</td>\n",
       "      <td>1</td>\n",
       "      <td>0.60</td>\n",
       "      <td>6.30</td>\n",
       "    </tr>\n",
       "  </tbody>\n",
       "</table>\n",
       "</div>"
      ],
      "text/plain": [
       "  tpep_pickup_datetime tpep_dropoff_datetime  passenger_count  trip_distance  \\\n",
       "0  2015-06-02 11:19:29   2015-06-02 11:47:52                1           1.63   \n",
       "1  2015-06-02 11:19:30   2015-06-02 11:27:56                1           0.46   \n",
       "2  2015-06-02 11:19:31   2015-06-02 11:30:30                1           0.87   \n",
       "3  2015-06-02 11:19:31   2015-06-02 11:39:02                1           2.13   \n",
       "4  2015-06-02 11:19:32   2015-06-02 11:32:49                1           1.40   \n",
       "5  2015-06-02 11:19:33   2015-06-02 11:28:48                1           1.40   \n",
       "6  2015-06-02 11:19:34   2015-06-02 11:38:46                1           1.80   \n",
       "7  2015-06-02 11:19:35   2015-06-02 12:36:46                4          11.90   \n",
       "8  2015-06-02 11:19:36   2015-06-02 11:45:19                1           1.27   \n",
       "9  2015-06-02 11:19:38   2015-06-02 11:23:50                1           0.60   \n",
       "\n",
       "   total_amount  \n",
       "0         17.80  \n",
       "1          8.30  \n",
       "2         11.00  \n",
       "3         17.16  \n",
       "4         10.30  \n",
       "5         10.55  \n",
       "6         16.30  \n",
       "7         73.84  \n",
       "8         15.80  \n",
       "9          6.30  "
      ]
     },
     "execution_count": 14,
     "metadata": {},
     "output_type": "execute_result"
    }
   ],
   "source": [
    "df.head(10)"
   ]
  },
  {
   "cell_type": "markdown",
   "id": "716624c4-66c4-40cd-9221-86560d202754",
   "metadata": {},
   "source": [
    "# Usint `.dt`\n",
    "\n",
    "We can use `.dt` on a `datetime` column and retrieve parts from it:\n",
    "\n",
    "- `.dt.year`\n",
    "- `.dt.month`\n",
    "- `.dt.hour`"
   ]
  },
  {
   "cell_type": "code",
   "execution_count": 15,
   "id": "d566e872-c012-4c98-ac00-57261f888c4e",
   "metadata": {},
   "outputs": [
    {
     "data": {
      "text/plain": [
       "0       11\n",
       "1       11\n",
       "2       11\n",
       "3       11\n",
       "4       11\n",
       "        ..\n",
       "9994     0\n",
       "9995     0\n",
       "9996     0\n",
       "9997     0\n",
       "9998     0\n",
       "Name: tpep_pickup_datetime, Length: 9999, dtype: int32"
      ]
     },
     "execution_count": 15,
     "metadata": {},
     "output_type": "execute_result"
    }
   ],
   "source": [
    "df['tpep_pickup_datetime'].dt.hour"
   ]
  },
  {
   "cell_type": "code",
   "execution_count": 16,
   "id": "ed749327-9974-4fbc-acab-fef4ee0c5007",
   "metadata": {},
   "outputs": [
    {
     "data": {
      "text/plain": [
       "0       2015\n",
       "1       2015\n",
       "2       2015\n",
       "3       2015\n",
       "4       2015\n",
       "        ... \n",
       "9994    2015\n",
       "9995    2015\n",
       "9996    2015\n",
       "9997    2015\n",
       "9998    2015\n",
       "Name: tpep_dropoff_datetime, Length: 9999, dtype: int32"
      ]
     },
     "execution_count": 16,
     "metadata": {},
     "output_type": "execute_result"
    }
   ],
   "source": [
    "df['tpep_dropoff_datetime'].dt.year"
   ]
  },
  {
   "cell_type": "code",
   "execution_count": 18,
   "id": "048710b3-dd64-4905-bdd2-60a8ee3d6c12",
   "metadata": {},
   "outputs": [
    {
     "data": {
      "text/plain": [
       "tpep_dropoff_datetime\n",
       "1    4395\n",
       "3    2536\n",
       "0    2439\n",
       "5     628\n",
       "2       1\n",
       "Name: count, dtype: int64"
      ]
     },
     "execution_count": 18,
     "metadata": {},
     "output_type": "execute_result"
    }
   ],
   "source": [
    "df['tpep_dropoff_datetime'].dt.dayofweek.value_counts()"
   ]
  },
  {
   "cell_type": "code",
   "execution_count": 19,
   "id": "3c65795d-cc2d-423d-b865-16e0813777a6",
   "metadata": {},
   "outputs": [
    {
     "data": {
      "text/plain": [
       "9999"
      ]
     },
     "execution_count": 19,
     "metadata": {},
     "output_type": "execute_result"
    }
   ],
   "source": [
    "len(df.index)"
   ]
  },
  {
   "cell_type": "code",
   "execution_count": 23,
   "id": "6e1a54d8-17ca-49d2-8eca-a01fbb610168",
   "metadata": {},
   "outputs": [
    {
     "data": {
      "text/plain": [
       "tpep_dropoff_datetime\n",
       "Tuesday      4395\n",
       "Thursday     2536\n",
       "Monday       2439\n",
       "Saturday      628\n",
       "Wednesday       1\n",
       "Name: count, dtype: int64"
      ]
     },
     "execution_count": 23,
     "metadata": {},
     "output_type": "execute_result"
    }
   ],
   "source": [
    "df['tpep_dropoff_datetime'].dt.day_name().value_counts()"
   ]
  },
  {
   "cell_type": "code",
   "execution_count": 26,
   "id": "3cfbeeb3-6cd6-4b7d-a392-57a01117d2b7",
   "metadata": {},
   "outputs": [
    {
     "data": {
      "text/plain": [
       "['__annotations__',\n",
       " '__class__',\n",
       " '__delattr__',\n",
       " '__dict__',\n",
       " '__dir__',\n",
       " '__doc__',\n",
       " '__eq__',\n",
       " '__firstlineno__',\n",
       " '__format__',\n",
       " '__frozen',\n",
       " '__ge__',\n",
       " '__getattribute__',\n",
       " '__getstate__',\n",
       " '__gt__',\n",
       " '__hash__',\n",
       " '__init__',\n",
       " '__init_subclass__',\n",
       " '__le__',\n",
       " '__lt__',\n",
       " '__module__',\n",
       " '__ne__',\n",
       " '__new__',\n",
       " '__reduce__',\n",
       " '__reduce_ex__',\n",
       " '__repr__',\n",
       " '__setattr__',\n",
       " '__sizeof__',\n",
       " '__static_attributes__',\n",
       " '__str__',\n",
       " '__subclasshook__',\n",
       " '__weakref__',\n",
       " '_accessors',\n",
       " '_add_delegate_accessors',\n",
       " '_constructor',\n",
       " '_delegate_method',\n",
       " '_delegate_property_get',\n",
       " '_delegate_property_set',\n",
       " '_dir_additions',\n",
       " '_dir_deletions',\n",
       " '_freeze',\n",
       " '_get_values',\n",
       " '_hidden_attrs',\n",
       " '_parent',\n",
       " '_reset_cache',\n",
       " 'as_unit',\n",
       " 'ceil',\n",
       " 'date',\n",
       " 'day',\n",
       " 'day_name',\n",
       " 'day_of_week',\n",
       " 'day_of_year',\n",
       " 'dayofweek',\n",
       " 'dayofyear',\n",
       " 'days_in_month',\n",
       " 'daysinmonth',\n",
       " 'floor',\n",
       " 'freq',\n",
       " 'hour',\n",
       " 'is_leap_year',\n",
       " 'is_month_end',\n",
       " 'is_month_start',\n",
       " 'is_quarter_end',\n",
       " 'is_quarter_start',\n",
       " 'is_year_end',\n",
       " 'is_year_start',\n",
       " 'isocalendar',\n",
       " 'microsecond',\n",
       " 'minute',\n",
       " 'month',\n",
       " 'month_name',\n",
       " 'nanosecond',\n",
       " 'normalize',\n",
       " 'quarter',\n",
       " 'round',\n",
       " 'second',\n",
       " 'strftime',\n",
       " 'time',\n",
       " 'timetz',\n",
       " 'to_period',\n",
       " 'to_pydatetime',\n",
       " 'tz',\n",
       " 'tz_convert',\n",
       " 'tz_localize',\n",
       " 'unit',\n",
       " 'weekday',\n",
       " 'year']"
      ]
     },
     "execution_count": 26,
     "metadata": {},
     "output_type": "execute_result"
    }
   ],
   "source": [
    "dir(df['tpep_dropoff_datetime'].dt)"
   ]
  },
  {
   "cell_type": "code",
   "execution_count": 27,
   "id": "57b807ca-5e4d-4ad9-a1f4-39259c3c22f0",
   "metadata": {},
   "outputs": [
    {
     "name": "stdout",
     "output_type": "stream",
     "text": [
      "nyc_taxi_2020-07.zip  taxi.zip\n"
     ]
    }
   ],
   "source": [
    "!ls *.zip"
   ]
  },
  {
   "cell_type": "markdown",
   "id": "2f0fc3df-8de6-4a0f-89d6-cb2c25eda333",
   "metadata": {},
   "source": [
    "# Exercise: NYC taxis\n",
    "\n",
    "1. Read the NYC taxi data from July 2020 into a data frame without turning into `datetime` values. How big is it?\n",
    "2. Use `parse_dates` to read it a second time. How much memory did you save?\n",
    "3. How many rides were there on each day of the week?\n",
    "4. How many rides were there on each hour?\n",
    "5. What was the mean `trip_distance` on weekends vs. during the week?"
   ]
  },
  {
   "cell_type": "code",
   "execution_count": 29,
   "id": "c7602e68-22b4-49ed-87bc-d35176c6665b",
   "metadata": {},
   "outputs": [],
   "source": [
    "filename = 'nyc_taxi_2020-07.zip'\n",
    "\n",
    "df = pd.read_csv(filename, low_memory=False)"
   ]
  },
  {
   "cell_type": "code",
   "execution_count": 33,
   "id": "fc8812c3-4d55-4b9b-bdc4-6aeae9d1949c",
   "metadata": {},
   "outputs": [
    {
     "name": "stdout",
     "output_type": "stream",
     "text": [
      "<class 'pandas.core.frame.DataFrame'>\n",
      "RangeIndex: 800412 entries, 0 to 800411\n",
      "Data columns (total 18 columns):\n",
      " #   Column                 Non-Null Count   Dtype  \n",
      "---  ------                 --------------   -----  \n",
      " 0   VendorID               737565 non-null  float64\n",
      " 1   tpep_pickup_datetime   800412 non-null  object \n",
      " 2   tpep_dropoff_datetime  800412 non-null  object \n",
      " 3   passenger_count        737565 non-null  float64\n",
      " 4   trip_distance          800412 non-null  float64\n",
      " 5   RatecodeID             737565 non-null  float64\n",
      " 6   store_and_fwd_flag     737565 non-null  object \n",
      " 7   PULocationID           800412 non-null  int64  \n",
      " 8   DOLocationID           800412 non-null  int64  \n",
      " 9   payment_type           737565 non-null  float64\n",
      " 10  fare_amount            800412 non-null  float64\n",
      " 11  extra                  800412 non-null  float64\n",
      " 12  mta_tax                800412 non-null  float64\n",
      " 13  tip_amount             800412 non-null  float64\n",
      " 14  tolls_amount           800412 non-null  float64\n",
      " 15  improvement_surcharge  800412 non-null  float64\n",
      " 16  total_amount           800412 non-null  float64\n",
      " 17  congestion_surcharge   800412 non-null  float64\n",
      "dtypes: float64(13), int64(2), object(3)\n",
      "memory usage: 232.5 MB\n"
     ]
    }
   ],
   "source": [
    "df.info(memory_usage='deep')"
   ]
  },
  {
   "cell_type": "code",
   "execution_count": 34,
   "id": "fbf75e80-5b29-49ef-a0f6-986d146521d2",
   "metadata": {},
   "outputs": [],
   "source": [
    "filename = 'nyc_taxi_2020-07.zip'\n",
    "\n",
    "df = pd.read_csv(filename, low_memory=False,\n",
    "                parse_dates=['tpep_pickup_datetime', 'tpep_dropoff_datetime'])"
   ]
  },
  {
   "cell_type": "code",
   "execution_count": 35,
   "id": "2652a8dc-8f23-438e-93fc-1395e8884856",
   "metadata": {},
   "outputs": [
    {
     "name": "stdout",
     "output_type": "stream",
     "text": [
      "<class 'pandas.core.frame.DataFrame'>\n",
      "RangeIndex: 800412 entries, 0 to 800411\n",
      "Data columns (total 18 columns):\n",
      " #   Column                 Non-Null Count   Dtype         \n",
      "---  ------                 --------------   -----         \n",
      " 0   VendorID               737565 non-null  float64       \n",
      " 1   tpep_pickup_datetime   800412 non-null  datetime64[ns]\n",
      " 2   tpep_dropoff_datetime  800412 non-null  datetime64[ns]\n",
      " 3   passenger_count        737565 non-null  float64       \n",
      " 4   trip_distance          800412 non-null  float64       \n",
      " 5   RatecodeID             737565 non-null  float64       \n",
      " 6   store_and_fwd_flag     737565 non-null  object        \n",
      " 7   PULocationID           800412 non-null  int64         \n",
      " 8   DOLocationID           800412 non-null  int64         \n",
      " 9   payment_type           737565 non-null  float64       \n",
      " 10  fare_amount            800412 non-null  float64       \n",
      " 11  extra                  800412 non-null  float64       \n",
      " 12  mta_tax                800412 non-null  float64       \n",
      " 13  tip_amount             800412 non-null  float64       \n",
      " 14  tolls_amount           800412 non-null  float64       \n",
      " 15  improvement_surcharge  800412 non-null  float64       \n",
      " 16  total_amount           800412 non-null  float64       \n",
      " 17  congestion_surcharge   800412 non-null  float64       \n",
      "dtypes: datetime64[ns](2), float64(13), int64(2), object(1)\n",
      "memory usage: 140.9 MB\n"
     ]
    }
   ],
   "source": [
    "df.info(memory_usage='deep')"
   ]
  },
  {
   "cell_type": "code",
   "execution_count": 37,
   "id": "973ea001-04a1-4bae-953a-aded5ff74dd8",
   "metadata": {},
   "outputs": [
    {
     "data": {
      "text/plain": [
       "tpep_pickup_datetime\n",
       "Thursday     149582\n",
       "Wednesday    147489\n",
       "Friday       136094\n",
       "Tuesday      115951\n",
       "Monday       106208\n",
       "Saturday      79001\n",
       "Sunday        66087\n",
       "Name: count, dtype: int64"
      ]
     },
     "execution_count": 37,
     "metadata": {},
     "output_type": "execute_result"
    }
   ],
   "source": [
    "# 3. How many rides were there on each day of the week?\n",
    "\n",
    "df['tpep_pickup_datetime'].dt.day_name().value_counts()"
   ]
  },
  {
   "cell_type": "code",
   "execution_count": 40,
   "id": "7e6e29a6-9acb-45c7-9522-34cdb02bc338",
   "metadata": {},
   "outputs": [
    {
     "data": {
      "text/plain": [
       "tpep_pickup_datetime\n",
       "0     11457\n",
       "1      9581\n",
       "2      7241\n",
       "3      7157\n",
       "4      7374\n",
       "5      6807\n",
       "6     18554\n",
       "7     25889\n",
       "8     35090\n",
       "9     41009\n",
       "10    46282\n",
       "11    49846\n",
       "12    54563\n",
       "13    57580\n",
       "14    59073\n",
       "15    59210\n",
       "16    57144\n",
       "17    56668\n",
       "18    53129\n",
       "19    42472\n",
       "20    30649\n",
       "21    24662\n",
       "22    20783\n",
       "23    18192\n",
       "Name: count, dtype: int64"
      ]
     },
     "execution_count": 40,
     "metadata": {},
     "output_type": "execute_result"
    }
   ],
   "source": [
    "# 4. How many rides were there on each hour?\n",
    "\n",
    "df['tpep_pickup_datetime'].dt.hour.value_counts(sort=False).sort_index()\n"
   ]
  },
  {
   "cell_type": "code",
   "execution_count": 50,
   "id": "beccc2f5-0f69-464f-8c0a-e926e09d2685",
   "metadata": {},
   "outputs": [
    {
     "data": {
      "text/plain": [
       "np.float64(6.915069750771945)"
      ]
     },
     "execution_count": 50,
     "metadata": {},
     "output_type": "execute_result"
    }
   ],
   "source": [
    "# 5. What was the mean `trip_distance` on weekends vs. during the week?\n",
    "\n",
    "(\n",
    "    df\n",
    "    .loc[\n",
    "        df['tpep_pickup_datetime'].dt.day_of_week.isin([5,6]) ,\n",
    "        'trip_distance'\n",
    "    ]     # 0 == Monday\n",
    "    .mean()\n",
    ")"
   ]
  },
  {
   "cell_type": "code",
   "execution_count": 51,
   "id": "d1d10315-7d0f-44e4-b2a9-085b046d5508",
   "metadata": {},
   "outputs": [
    {
     "data": {
      "text/plain": [
       "np.float64(3.7261134644847442)"
      ]
     },
     "execution_count": 51,
     "metadata": {},
     "output_type": "execute_result"
    }
   ],
   "source": [
    "(\n",
    "    df\n",
    "    .loc[\n",
    "        ~df['tpep_pickup_datetime'].dt.day_of_week.isin([5,6]) ,\n",
    "        'trip_distance'\n",
    "    ]     # 0 == Monday\n",
    "    .mean()\n",
    ")"
   ]
  },
  {
   "cell_type": "code",
   "execution_count": 52,
   "id": "7d8a8350-ddf1-4c54-a04b-59ee04534b7e",
   "metadata": {},
   "outputs": [
    {
     "data": {
      "text/plain": [
       "passenger_count\n",
       "0.0    2.629651\n",
       "1.0    2.661786\n",
       "2.0    2.914637\n",
       "3.0    2.930557\n",
       "4.0    3.032374\n",
       "5.0    2.780181\n",
       "6.0    2.823975\n",
       "7.0    2.168000\n",
       "8.0    0.000000\n",
       "9.0    0.000000\n",
       "Name: trip_distance, dtype: float64"
      ]
     },
     "execution_count": 52,
     "metadata": {},
     "output_type": "execute_result"
    }
   ],
   "source": [
    "# what if I want to find out: for each separate hour of the day, what \n",
    "# was the mean distance?\n",
    "\n",
    "df.groupby('passenger_count')['trip_distance'].mean()"
   ]
  },
  {
   "cell_type": "code",
   "execution_count": 55,
   "id": "aac7d61c-cacb-439a-85bc-1c0e966c3c2c",
   "metadata": {},
   "outputs": [
    {
     "data": {
      "text/plain": [
       "tpep_pickup_datetime\n",
       "21    32.465414\n",
       "1     15.018075\n",
       "3     14.842060\n",
       "4     13.844186\n",
       "2      7.522501\n",
       "0      4.686456\n",
       "7      4.502182\n",
       "23     4.159685\n",
       "22     3.785870\n",
       "5      3.669135\n",
       "20     3.432630\n",
       "13     3.229825\n",
       "19     3.080243\n",
       "17     3.006179\n",
       "16     2.980572\n",
       "18     2.958436\n",
       "15     2.884645\n",
       "6      2.877530\n",
       "14     2.705078\n",
       "12     2.635746\n",
       "8      2.588864\n",
       "11     2.570557\n",
       "9      2.552402\n",
       "10     2.525525\n",
       "Name: trip_distance, dtype: float64"
      ]
     },
     "execution_count": 55,
     "metadata": {},
     "output_type": "execute_result"
    }
   ],
   "source": [
    "(\n",
    "    df\n",
    "    .groupby(df['tpep_pickup_datetime'].dt.hour)\n",
    "    ['trip_distance'].mean()\n",
    "    .sort_values(ascending=False)\n",
    ")"
   ]
  },
  {
   "cell_type": "code",
   "execution_count": 56,
   "id": "0d639569-2ae9-4353-b151-173a7d791bc0",
   "metadata": {},
   "outputs": [
    {
     "data": {
      "text/plain": [
       "tpep_pickup_datetime  passenger_count\n",
       "20                    7.0                10.840000\n",
       "3                     2.0                 5.271961\n",
       "23                    5.0                 5.194554\n",
       "3                     4.0                 4.964615\n",
       "4                     2.0                 4.779444\n",
       "                                           ...    \n",
       "0                     9.0                 0.000000\n",
       "14                    7.0                 0.000000\n",
       "22                    7.0                 0.000000\n",
       "                      8.0                 0.000000\n",
       "23                    8.0                 0.000000\n",
       "Name: trip_distance, Length: 174, dtype: float64"
      ]
     },
     "execution_count": 56,
     "metadata": {},
     "output_type": "execute_result"
    }
   ],
   "source": [
    "# groupby on two columns\n",
    "\n",
    "(\n",
    "    df\n",
    "    .groupby([df['tpep_pickup_datetime'].dt.hour, 'passenger_count'])\n",
    "    ['trip_distance'].mean()\n",
    "    .sort_values(ascending=False)\n",
    ")"
   ]
  },
  {
   "cell_type": "code",
   "execution_count": 61,
   "id": "6cf4664f-b954-4e56-98f9-d59f91436e3e",
   "metadata": {},
   "outputs": [
    {
     "data": {
      "text/plain": [
       "tpep_pickup_datetime\n",
       "2020-07-26 21:00:00    289.939840\n",
       "2020-07-23 01:00:00    284.695535\n",
       "2020-07-18 21:00:00    274.503365\n",
       "2020-07-09 21:00:00    273.676141\n",
       "2020-07-03 03:00:00    162.823870\n",
       "                          ...    \n",
       "2020-06-30 17:00:00           NaN\n",
       "2020-06-30 19:00:00           NaN\n",
       "2020-06-30 20:00:00           NaN\n",
       "2020-06-30 21:00:00           NaN\n",
       "2020-06-30 22:00:00           NaN\n",
       "Name: trip_distance, Length: 101522, dtype: float64"
      ]
     },
     "execution_count": 61,
     "metadata": {},
     "output_type": "execute_result"
    }
   ],
   "source": [
    "# Grouper\n",
    "\n",
    "(\n",
    "    df\n",
    "    # key == the column on which I want to run, on a datetime column\n",
    "    # frequency == chunk size for the grouping\n",
    "    .groupby(pd.Grouper(key='tpep_pickup_datetime', freq='1h'))\n",
    "    ['trip_distance'].mean()\n",
    "    .sort_values(ascending=False)\n",
    ")"
   ]
  },
  {
   "cell_type": "markdown",
   "id": "3de559ba-1586-4bcb-bb0d-5b6ba8747d78",
   "metadata": {},
   "source": [
    "# Exercise: More taxi stuff\n",
    "\n",
    "1. From the July 2020 data, on which 5 days of the month did people travel the furthest on average?\n",
    "2. At which hour do we see the greatest number of refunds (i.e., negative `total_amount`)?"
   ]
  },
  {
   "cell_type": "code",
   "execution_count": 64,
   "id": "ae78763d-2895-4e99-be9a-948f09cdafd9",
   "metadata": {},
   "outputs": [
    {
     "data": {
      "text/plain": [
       "tpep_pickup_datetime\n",
       "26    16.792579\n",
       "18    15.146303\n",
       "9     10.763637\n",
       "23     5.460835\n",
       "3      5.293490\n",
       "Name: trip_distance, dtype: float64"
      ]
     },
     "execution_count": 64,
     "metadata": {},
     "output_type": "execute_result"
    }
   ],
   "source": [
    "(\n",
    "    df\n",
    "    .groupby(df['tpep_pickup_datetime'].dt.day)['trip_distance'].mean()\n",
    "    .nlargest(5)\n",
    ")"
   ]
  },
  {
   "cell_type": "code",
   "execution_count": 69,
   "id": "71938af0-2c79-43eb-ac97-7a66d872e4ed",
   "metadata": {},
   "outputs": [
    {
     "data": {
      "text/plain": [
       "tpep_pickup_datetime\n",
       "15    290\n",
       "17    256\n",
       "13    251\n",
       "14    246\n",
       "18    242\n",
       "16    235\n",
       "19    216\n",
       "12    208\n",
       "20    205\n",
       "10    181\n",
       "11    177\n",
       "21    156\n",
       "9     153\n",
       "23    132\n",
       "22    113\n",
       "8     111\n",
       "0     101\n",
       "6      91\n",
       "7      87\n",
       "1      70\n",
       "2      56\n",
       "5      54\n",
       "4      35\n",
       "3      31\n",
       "Name: count, dtype: int64"
      ]
     },
     "execution_count": 69,
     "metadata": {},
     "output_type": "execute_result"
    }
   ],
   "source": [
    "(\n",
    "    df\n",
    "    .loc[lambda df_: df_['total_amount'] < 0]\n",
    "    ['tpep_pickup_datetime'].dt.hour\n",
    "    .value_counts()\n",
    ")"
   ]
  },
  {
   "cell_type": "markdown",
   "id": "91227c6a-b6dc-43ac-b109-2e41af686b73",
   "metadata": {},
   "source": [
    "# Next up\n",
    "\n",
    "- `timedelta`\n",
    "- time series\n",
    "- resampling"
   ]
  },
  {
   "cell_type": "code",
   "execution_count": 70,
   "id": "c67b3dab-66b5-47e7-81f8-f0902ffefbdd",
   "metadata": {},
   "outputs": [
    {
     "data": {
      "text/html": [
       "<div>\n",
       "<style scoped>\n",
       "    .dataframe tbody tr th:only-of-type {\n",
       "        vertical-align: middle;\n",
       "    }\n",
       "\n",
       "    .dataframe tbody tr th {\n",
       "        vertical-align: top;\n",
       "    }\n",
       "\n",
       "    .dataframe thead th {\n",
       "        text-align: right;\n",
       "    }\n",
       "</style>\n",
       "<table border=\"1\" class=\"dataframe\">\n",
       "  <thead>\n",
       "    <tr style=\"text-align: right;\">\n",
       "      <th></th>\n",
       "      <th>tpep_pickup_datetime</th>\n",
       "      <th>tpep_dropoff_datetime</th>\n",
       "      <th>passenger_count</th>\n",
       "      <th>trip_distance</th>\n",
       "      <th>total_amount</th>\n",
       "    </tr>\n",
       "  </thead>\n",
       "  <tbody>\n",
       "    <tr>\n",
       "      <th>0</th>\n",
       "      <td>2015-06-02 11:19:29</td>\n",
       "      <td>2015-06-02 11:47:52</td>\n",
       "      <td>1</td>\n",
       "      <td>1.63</td>\n",
       "      <td>17.80</td>\n",
       "    </tr>\n",
       "    <tr>\n",
       "      <th>1</th>\n",
       "      <td>2015-06-02 11:19:30</td>\n",
       "      <td>2015-06-02 11:27:56</td>\n",
       "      <td>1</td>\n",
       "      <td>0.46</td>\n",
       "      <td>8.30</td>\n",
       "    </tr>\n",
       "    <tr>\n",
       "      <th>2</th>\n",
       "      <td>2015-06-02 11:19:31</td>\n",
       "      <td>2015-06-02 11:30:30</td>\n",
       "      <td>1</td>\n",
       "      <td>0.87</td>\n",
       "      <td>11.00</td>\n",
       "    </tr>\n",
       "    <tr>\n",
       "      <th>3</th>\n",
       "      <td>2015-06-02 11:19:31</td>\n",
       "      <td>2015-06-02 11:39:02</td>\n",
       "      <td>1</td>\n",
       "      <td>2.13</td>\n",
       "      <td>17.16</td>\n",
       "    </tr>\n",
       "    <tr>\n",
       "      <th>4</th>\n",
       "      <td>2015-06-02 11:19:32</td>\n",
       "      <td>2015-06-02 11:32:49</td>\n",
       "      <td>1</td>\n",
       "      <td>1.40</td>\n",
       "      <td>10.30</td>\n",
       "    </tr>\n",
       "  </tbody>\n",
       "</table>\n",
       "</div>"
      ],
      "text/plain": [
       "  tpep_pickup_datetime tpep_dropoff_datetime  passenger_count  trip_distance  \\\n",
       "0  2015-06-02 11:19:29   2015-06-02 11:47:52                1           1.63   \n",
       "1  2015-06-02 11:19:30   2015-06-02 11:27:56                1           0.46   \n",
       "2  2015-06-02 11:19:31   2015-06-02 11:30:30                1           0.87   \n",
       "3  2015-06-02 11:19:31   2015-06-02 11:39:02                1           2.13   \n",
       "4  2015-06-02 11:19:32   2015-06-02 11:32:49                1           1.40   \n",
       "\n",
       "   total_amount  \n",
       "0         17.80  \n",
       "1          8.30  \n",
       "2         11.00  \n",
       "3         17.16  \n",
       "4         10.30  "
      ]
     },
     "execution_count": 70,
     "metadata": {},
     "output_type": "execute_result"
    }
   ],
   "source": [
    "# datetime - datetime = timedelta\n",
    "\n",
    "df = pd.read_csv('taxi.csv',\n",
    "                usecols=['tpep_pickup_datetime', 'tpep_dropoff_datetime',\n",
    "                        'trip_distance', 'total_amount', 'passenger_count'],\n",
    "                parse_dates=['tpep_pickup_datetime', 'tpep_dropoff_datetime'])\n",
    "df.head()"
   ]
  },
  {
   "cell_type": "code",
   "execution_count": 71,
   "id": "ab0fce5e-ce63-4fd6-893a-52b40b83baea",
   "metadata": {},
   "outputs": [
    {
     "data": {
      "text/plain": [
       "0      0 days 00:28:23\n",
       "1      0 days 00:08:26\n",
       "2      0 days 00:10:59\n",
       "3      0 days 00:19:31\n",
       "4      0 days 00:13:17\n",
       "             ...      \n",
       "9994   0 days 00:11:19\n",
       "9995   0 days 00:15:17\n",
       "9996   0 days 00:24:25\n",
       "9997   0 days 00:06:08\n",
       "9998   0 days 00:23:29\n",
       "Length: 9999, dtype: timedelta64[ns]"
      ]
     },
     "execution_count": 71,
     "metadata": {},
     "output_type": "execute_result"
    }
   ],
   "source": [
    "df['tpep_dropoff_datetime'] - df['tpep_pickup_datetime']"
   ]
  },
  {
   "cell_type": "code",
   "execution_count": null,
   "id": "bf8ddf7e-ea7e-4fea-bbf2-86c80750ef7f",
   "metadata": {},
   "outputs": [],
   "source": []
  }
 ],
 "metadata": {
  "kernelspec": {
   "display_name": "Python 3 (ipykernel)",
   "language": "python",
   "name": "python3"
  },
  "language_info": {
   "codemirror_mode": {
    "name": "ipython",
    "version": 3
   },
   "file_extension": ".py",
   "mimetype": "text/x-python",
   "name": "python",
   "nbconvert_exporter": "python",
   "pygments_lexer": "ipython3",
   "version": "3.13.0"
  },
  "widgets": {
   "application/vnd.jupyter.widget-state+json": {
    "state": {},
    "version_major": 2,
    "version_minor": 0
   }
  }
 },
 "nbformat": 4,
 "nbformat_minor": 5
}
