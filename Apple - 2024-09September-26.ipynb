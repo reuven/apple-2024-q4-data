{
 "cells": [
  {
   "cell_type": "markdown",
   "id": "4cd774c7-6324-4ae6-ab17-2b72a166bd68",
   "metadata": {},
   "source": [
    "# Data frame\n",
    "\n",
    "1. Creating data frames from files (esp. CSV)\n",
    "2. Methods that we can run on a data frame\n",
    "3. Using `.loc` and `.iloc` to retrieve and set data"
   ]
  },
  {
   "cell_type": "code",
   "execution_count": null,
   "id": "cde2cd41-3bc9-4130-a733-e50ca59e3986",
   "metadata": {},
   "outputs": [],
   "source": []
  }
 ],
 "metadata": {
  "kernelspec": {
   "display_name": "Python 3 (ipykernel)",
   "language": "python",
   "name": "python3"
  },
  "language_info": {
   "codemirror_mode": {
    "name": "ipython",
    "version": 3
   },
   "file_extension": ".py",
   "mimetype": "text/x-python",
   "name": "python",
   "nbconvert_exporter": "python",
   "pygments_lexer": "ipython3",
   "version": "3.12.2"
  },
  "widgets": {
   "application/vnd.jupyter.widget-state+json": {
    "state": {},
    "version_major": 2,
    "version_minor": 0
   }
  }
 },
 "nbformat": 4,
 "nbformat_minor": 5
}
